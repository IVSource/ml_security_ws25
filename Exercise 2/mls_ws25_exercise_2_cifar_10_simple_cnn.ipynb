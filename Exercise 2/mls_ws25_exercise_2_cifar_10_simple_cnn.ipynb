{
 "cells": [
  {
   "cell_type": "markdown",
   "id": "293ac998",
   "metadata": {},
   "source": [
    "## MLS WiSe 2025/26 Exercise 2.1: CIFAR‑10 Simple CNN (20P)\n",
    "#### Adapted from an exercise created by Dennis Eisermann\n",
    "In this notebook you will build, train and evaluate a basic convolutional‑neural‑network classifier on the CIFAR‑10 dataset using PyTorch. Read the instructions in each task cell and fill in the code.\n"
   ]
  },
  {
   "cell_type": "markdown",
   "id": "bc26371a",
   "metadata": {},
   "source": [
    "### Task 1 – Local Setup (0P)\n",
    "(alternatively: use \"Jupyter PyTorch\" Profile on bwJupyter)\n",
    "\n",
    "* Install/import the libraries [torch](https://pytorch.org/get-started/locally/) and torchvision. Print the versions. \n",
    "* Install on your local PC: CUDA for NVIDIA and ROCM for AMD graphic cards!"
   ]
  },
  {
   "cell_type": "code",
   "execution_count": null,
   "id": "dbe4e40c",
   "metadata": {
    "scrolled": true
   },
   "outputs": [],
   "source": [
    "import torch, torchvision\n",
    "print(torch.__version__)\n",
    "print(torchvision.__version__)\n"
   ]
  },
  {
   "cell_type": "markdown",
   "id": "e98c4181-b9be-4752-8eb4-5c4a6ef4fbc5",
   "metadata": {},
   "source": [
    "### Task 2 – Load & explore the CIFAR‑10 data (5P)"
   ]
  },
  {
   "cell_type": "markdown",
   "id": "da4f2468-2da9-4699-b06c-d24753c6c663",
   "metadata": {},
   "source": [
    "1. Configure preprocessing pipelines for training and testing with normalization and horizontal flip as augmentations. These pipelines benefit the quality of the training. (For normalization, you can take pre-computed mean/std from public sources for this dataset or calculate them youself.)\n",
    "(2P)\n",
    "\n",
    "For the discussion, not the submission: What is normalization good for and why should you do this horizontal flip?"
   ]
  },
  {
   "cell_type": "code",
   "execution_count": null,
   "id": "819c2fe0-f1ec-498d-8229-6d4287b385e7",
   "metadata": {},
   "outputs": [],
   "source": [
    "from torchvision.transforms import v2\n",
    "\n",
    "def normalize_cifar10():\n",
    "    return v2.Normalize(\n",
    "        mean=[0.4914, 0.4822, 0.4465],\n",
    "        std=[0.2023, 0.1994, 0.2010]\n",
    "    )\n",
    "    \n",
    "def horiziontal_flip():\n",
    "    return v2.RandomHorizontalFlip(p=0.5)"
   ]
  },
  {
   "cell_type": "markdown",
   "id": "0a299e29",
   "metadata": {},
   "source": [
    "What is normalization good for and why should you do this horizontal flip?\n",
    "\n",
    "Answer:\n",
    "Once the data is normalized you dont have to be so careful with optimazition steps width (learning rate). Allowing to use faster learning rates for faster achieving convergence. \n",
    "The horizontal flip is a cheap way to augment the data to double the amount of training data. "
   ]
  },
  {
   "cell_type": "markdown",
   "id": "6b21f233-73d4-4bb2-afaa-095fa73735c8",
   "metadata": {},
   "source": [
    "2. Download the training and test splits from [CIFAR10](https://pytorch.org/vision/stable/generated/torchvision.datasets.CIFAR10.html). Create [Dataloaders](https://pytorch.org/tutorials/beginner/basics/data_tutorial.html) with a batch_size of 128 and random shuffling only for training.\n",
    "Use the already defined preporcessing pipeline to transform the dataset. These datasets will be used to train and evaluate a neural network. (1P)"
   ]
  },
  {
   "cell_type": "code",
   "execution_count": null,
   "id": "71bf4eb3-b884-402b-b6c4-1cb36c80e6ec",
   "metadata": {},
   "outputs": [],
   "source": [
    "from torchvision import datasets, transforms\n",
    "from torch.utils.data import DataLoader\n",
    "\n",
    "train_dataset = datasets.CIFAR10(\n",
    "    root=\"./data\",\n",
    "    download=True,\n",
    "    transform=transforms.ToTensor()\n",
    ")\n",
    "\n",
    "test_dataset = datasets.CIFAR10(\n",
    "    root=\"./data\",\n",
    "    train=False,\n",
    "    download=True,\n",
    "    transform=transforms.ToTensor()\n",
    ")\n",
    "\n",
    "trainloader = DataLoader(train_dataset, shuffle=True, batch_size=128)\n",
    "\n",
    "testloader = DataLoader(test_dataset, shuffle=False, batch_size=128)\n",
    " "
   ]
  },
  {
   "cell_type": "markdown",
   "id": "c00a4c21-1e60-4148-b2df-ec9948bada1c",
   "metadata": {},
   "source": [
    "3. Show 8 sample [images](https://matplotlib.org/stable/gallery/images_contours_and_fields/image_demo.html) and their labels from test dataset. Use subplots from [Matplotlib](https://matplotlib.org/stable/api/_as_gen/matplotlib.pyplot.subplots.html).\n",
    "The requested graphic  should show an impression of our dataset and the performed transformations. (2P)"
   ]
  },
  {
   "cell_type": "code",
   "execution_count": null,
   "id": "680973ba-dcc7-4dae-8eff-aafdb44c2bb1",
   "metadata": {},
   "outputs": [],
   "source": [
    "classes = [\"airplane\",\"automobile\",\"bird\",\"cat\",\"deer\",\"dog\",\"frog\",\"horse\",\"ship\",\"truck\"]\n",
    "import matplotlib.pyplot as plt\n",
    "import numpy\n",
    "\n",
    "\n",
    "inputs = test_dataset.data[:8]\n",
    "labels = test_dataset.targets[:8]\n",
    "fig = plt.figure()\n",
    "for i in range(8):\n",
    "    plt.subplot(2,4,i+1)\n",
    "    plt.tight_layout(w_pad=7.0)\n",
    "    plt.imshow(inputs[i,:,:,:], interpolation='none')\n",
    "    plt.title(\"Ground Truth: {}\".format(classes[int(labels[i])]))\n",
    "    plt.xticks([])\n",
    "    plt.yticks([])"
   ]
  },
  {
   "cell_type": "markdown",
   "id": "0c44ce91",
   "metadata": {},
   "source": [
    "### Task 3 – Build a simple CNN (5P)\n",
    "Create a PyTorch `nn.Module` called `SimpleCNN`. A good [architecture](https://pyimagesearch.com/2021/07/19/pytorch-training-your-first-convolutional-neural-network-cnn/) for CIFAR‑10:\n",
    "* Conv(3→32) → ReLU → Conv(32→64) → ReLU → MaxPool(2)\n",
    "* Conv(64→128) → ReLU → MaxPool(2)\n",
    "* Flatten → Linear(128·8·8 → 256) → ReLU → Dropout(0.3) → Linear(256 → 10)\n",
    "\n",
    "You define an image classifier neural network which takes 32x32 images as input and matches them to 10 output classes.\n",
    "Instantiate the model and move it to *GPU if available*. Print the architecture.\n",
    "\n",
    "For the discussion, not the submission: Why is this a reasonable architecture? Are there others you would try?"
   ]
  },
  {
   "cell_type": "code",
   "execution_count": null,
   "id": "76157ec2",
   "metadata": {},
   "outputs": [],
   "source": [
    "import torch.nn as nn\n",
    "\n",
    "class SimpleCNN(nn.Module):\n",
    "    def __init__(self):\n",
    "        super().__init__()\n",
    "        self.conv = nn.Sequential(\n",
    "            nn.Conv2d(3, 32,1),\n",
    "            nn.ReLU(),\n",
    "            nn.Conv2d(32, 64, 1),\n",
    "            nn.ReLU(),\n",
    "            nn.MaxPool2d(2),\n",
    "            nn.Conv2d(64, 128, 1),\n",
    "            nn.ReLU(),\n",
    "            nn.MaxPool2d(2)\n",
    "            )\n",
    "        self.fc = nn.Sequential(\n",
    "            nn.Flatten(),\n",
    "            nn.Linear(128*8*8, 256), \n",
    "            nn.ReLU(),\n",
    "            nn.Dropout(0.3),\n",
    "            nn.Linear(256,10))\n",
    "    def forward(self, x): return self.fc(self.conv(x))\n",
    "    \n",
    "    \n",
    "    #RuntimeError: mat1 and mat2 shapes cannot be multiplied (128x4608 and 8192x256)"
   ]
  },
  {
   "cell_type": "markdown",
   "id": "8681633a-93f9-4e6f-ad99-e61860941130",
   "metadata": {},
   "source": [
    "### Task 4 – Train the network (5P)\n",
    "1. Create a *cross‑entropy loss* and  an *Adam* optimizer (learning‑rate 1e‑3) . The loss describes how much the result of the classifier differs from the labels of the training data.\n",
    "The optimizer describes how much every wheight of the neural network will be adjusted in every step to move the prediction towards the training label. (1P)\n"
   ]
  },
  {
   "cell_type": "code",
   "execution_count": null,
   "id": "0f42b32f-06f2-4c31-b406-271b17568690",
   "metadata": {},
   "outputs": [],
   "source": [
    "import torch\n",
    "\n",
    "\n",
    "training_net = SimpleCNN()\n",
    "training_net.train()\n",
    "\n",
    "\n",
    "Optimizer = torch.optim.NAdam(training_net.parameters(), lr=1e-3)\n",
    "Optimizer.zero_grad()\n",
    "\n",
    "# Compute loss\n",
    "loss_fn = nn.CrossEntropyLoss()"
   ]
  },
  {
   "cell_type": "markdown",
   "id": "de869739-c11a-4e7d-9795-46e6e5c459b2",
   "metadata": {},
   "source": [
    "2. Load the data to the GPU. Train the CNN for 10 epochs. Print training and validation [accuracy](https://en.wikipedia.org/wiki/Accuracy_and_precision) for each epoch. [Saves](https://pytorch.org/tutorials/beginner/saving_loading_models.html) the best model weights to `cifar10_simplecnn.pth`.  (4P)"
   ]
  },
  {
   "cell_type": "code",
   "execution_count": null,
   "id": "a6270dec",
   "metadata": {
    "scrolled": true
   },
   "outputs": [],
   "source": [
    "\n",
    "\n",
    "for epoch in range(1):\n",
    "    losses, accuracies = [], []\n",
    "    for i, data in enumerate(trainloader, 0):\n",
    "        inputs, labels = data\n",
    " \n",
    "        Optimizer.zero_grad()\n",
    " \n",
    "        # forward + backward + optimize\n",
    "        outputs = training_net.forward(inputs)\n",
    "        loss = loss_fn(outputs, labels)\n",
    "        print(\"Epoch {}, Iteration {}, Loss {}: \".format(epoch, i,loss))\n",
    "        print(loss)\n",
    "        loss.backward()\n",
    "        Optimizer.step()\n",
    "        \n",
    "    \n",
    "  "
   ]
  },
  {
   "cell_type": "markdown",
   "id": "84c44c83-9788-4df8-8001-3fd8a8301882",
   "metadata": {},
   "source": [
    "### Task 5 – Test an image & interpret results (5P)\n",
    "1. Load the model with the saved weights to the GPU and put it in evaluation mode so we can use the model for inference. (1P)"
   ]
  },
  {
   "cell_type": "code",
   "execution_count": null,
   "id": "71ee30e8-e591-4052-95af-df5ebb15bf78",
   "metadata": {},
   "outputs": [],
   "source": [
    "import os\n",
    "import torch\n",
    "\n",
    "# TODO load to GPU\n",
    "def save(self, directory: str, name: str):\n",
    "        \"\"\"Stores the current state and config of the agent\"\"\"\n",
    "        os.makedirs(directory, exist_ok=True)\n",
    "        path = os.path.join(directory, f'{name}.pt')\n",
    "        torch.save(training_net,path)\n",
    "        \n",
    "       \n",
    "save(training_net, \"./models\", \"simple_cnn_cifar10\")\n",
    "        \n",
    "training_net.eval()"
   ]
  },
  {
   "cell_type": "markdown",
   "id": "eafea728-c479-4f7c-ae21-85db10ef7bc6",
   "metadata": {},
   "source": [
    "2. Take the first image from the *test* set and infer its class to see if the classifier was loaded properly. (2P)"
   ]
  },
  {
   "cell_type": "code",
   "execution_count": null,
   "id": "5796be7b-7b38-434f-9454-455c5638c38d",
   "metadata": {},
   "outputs": [],
   "source": [
    "\n",
    "loaded_model = torch.load(\"./models/simple_cnn_cifar10.pt\")\n",
    "first_image = test_dataset.data[:1]  # Shape (1, 32, 32, 3)\n",
    "\n",
    "# To Tensor \n",
    "first_image_tensor = torch.from_numpy(first_image).permute(0, 3, 1, 2).float() / 255.0  # -> (1, 3, 32, 32)\n",
    "\n",
    "# Normalize again\n",
    "normalize = transforms.Normalize(\n",
    "    mean=[0.4914, 0.4822, 0.4465],\n",
    "    std=[0.2470, 0.2435, 0.2616]\n",
    ")\n",
    "first_image_tensor = normalize(first_image_tensor[0]).unsqueeze(0)  # Normalisierung + Batch-Dim\n",
    "\n",
    "# To GPU (Maybe needed? TODO when  )\n",
    "device = next(loaded_model.parameters()).device\n",
    "first_image_tensor = first_image_tensor.to(device)\n",
    "\n",
    "# Inference\n",
    "loaded_model.eval()\n",
    "with torch.no_grad():\n",
    "    output = loaded_model(first_image_tensor)\n",
    "    predicted_class = torch.argmax(output, dim=1).item()\n",
    "\n",
    "    loaded_model.softmax = torch.nn.Softmax(dim=1)\n",
    "    probabilities = loaded_model.softmax(output)\n",
    "    confidence_value = probabilities[0, predicted_class].item() * 100\n",
    "    "
   ]
  },
  {
   "cell_type": "markdown",
   "id": "735067fb-8cfd-4b10-9fab-c0d3139481b4",
   "metadata": {},
   "source": [
    "3. Display the image alongside the predicted label with its confidence as well as the label from the dataset. This visualizes the capability of the classifier to make a right decision. (2P)"
   ]
  },
  {
   "cell_type": "code",
   "execution_count": 77,
   "id": "5603767f-8123-4514-9f27-4fa8972da9b4",
   "metadata": {},
   "outputs": [
    {
     "data": {
      "image/png": "[encoded data removed]",
      "text/plain": [
       "<Figure size 640x480 with 1 Axes>"
      ]
     },
     "metadata": {},
     "output_type": "display_data"
    }
   ],
   "source": [
    "plt.imshow(first_image[0])\n",
    "plt.title(\"Predicted Class: {} \\n Confidence Value: {:.2f}%\".format(classes[int(predicted_class)], confidence_value))\n",
    "plt.axis('off');\n"
   ]
  }
 ],
 "metadata": {
  "kernelspec": {
   "display_name": "Python 3",
   "language": "python",
   "name": "python3"
  },
  "language_info": {
   "codemirror_mode": {
    "name": "ipython",
    "version": 3
   },
   "file_extension": ".py",
   "mimetype": "text/x-python",
   "name": "python",
   "nbconvert_exporter": "python",
   "pygments_lexer": "ipython3",
   "version": "3.11.9"
  }
 },
 "nbformat": 4,
 "nbformat_minor": 5
}
